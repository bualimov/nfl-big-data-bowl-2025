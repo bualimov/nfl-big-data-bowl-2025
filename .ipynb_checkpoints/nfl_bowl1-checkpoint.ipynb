{
 "cells": [
  {
   "cell_type": "code",
   "execution_count": 1,
   "id": "aedd31a1-820f-42b3-9b47-7b350893920b",
   "metadata": {},
   "outputs": [
    {
     "name": "stdout",
     "output_type": "stream",
     "text": [
      "hi vscode from jupyter\n"
     ]
    }
   ],
   "source": [
    "# nfl data bowl 2025\n",
    "# test comment\n",
    "# test 2\n",
    "print(\"hi vscode from jupyter\")"
   ]
  },
  {
   "cell_type": "code",
   "execution_count": 2,
   "id": "173e2270-5990-4587-9ef6-fcdd93ef95fa",
   "metadata": {},
   "outputs": [
    {
     "name": "stdout",
     "output_type": "stream",
     "text": [
      "imports done.\n"
     ]
    }
   ],
   "source": [
    "# imports\n",
    "import pandas as pd\n",
    "import numpy as np\n",
    "import matplotlib.pyplot as plt\n",
    "print('imports done.')"
   ]
  },
  {
   "cell_type": "code",
   "execution_count": null,
   "id": "ac44e58b-5ac4-4dde-9214-cd1b43217e49",
   "metadata": {},
   "outputs": [],
   "source": []
  }
 ],
 "metadata": {
  "kernelspec": {
   "display_name": "Python 3 (ipykernel)",
   "language": "python",
   "name": "python3"
  },
  "language_info": {
   "codemirror_mode": {
    "name": "ipython",
    "version": 3
   },
   "file_extension": ".py",
   "mimetype": "text/x-python",
   "name": "python",
   "nbconvert_exporter": "python",
   "pygments_lexer": "ipython3",
   "version": "3.12.4"
  }
 },
 "nbformat": 4,
 "nbformat_minor": 5
}
