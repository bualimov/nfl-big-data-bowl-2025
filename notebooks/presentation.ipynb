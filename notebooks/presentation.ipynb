{
 "cells": [
  {
   "cell_type": "markdown",
   "metadata": {},
   "source": [
    "# Defensive Alignment Versatility Index (DAVI): Quantifying Pre-Snap Defensive Effectiveness\n",
    "\n",
    "## Introduction\n",
    "\n",
    "What makes a defense unpredictable and effective before the snap? In modern NFL, the pre-snap phase has become increasingly crucial, with defenses trying to disguise their intentions while offenses attempt to decode them..."
   ]
  },
  {
   "cell_type": "code",
   "execution_count": 1,
   "metadata": {},
   "outputs": [
    {
     "ename": "NameError",
     "evalue": "name 'plt' is not defined",
     "output_type": "error",
     "traceback": [
      "\u001b[0;31m---------------------------------------------------------------------------\u001b[0m",
      "\u001b[0;31mNameError\u001b[0m                                 Traceback (most recent call last)",
      "Cell \u001b[0;32mIn[1], line 2\u001b[0m\n\u001b[1;32m      1\u001b[0m \u001b[38;5;66;03m# Cell 2: Formation Distribution Visualization\u001b[39;00m\n\u001b[0;32m----> 2\u001b[0m \u001b[43mplt\u001b[49m\u001b[38;5;241m.\u001b[39mfigure(figsize\u001b[38;5;241m=\u001b[39m(\u001b[38;5;241m12\u001b[39m, \u001b[38;5;241m6\u001b[39m))\n\u001b[1;32m      3\u001b[0m formations \u001b[38;5;241m=\u001b[39m pd\u001b[38;5;241m.\u001b[39mcut(play_features[\u001b[38;5;124m'\u001b[39m\u001b[38;5;124mbox_count\u001b[39m\u001b[38;5;124m'\u001b[39m], \n\u001b[1;32m      4\u001b[0m                    bins\u001b[38;5;241m=\u001b[39m[\u001b[38;5;241m0\u001b[39m, \u001b[38;5;241m5\u001b[39m, \u001b[38;5;241m6\u001b[39m, \u001b[38;5;241m7\u001b[39m, \u001b[38;5;241m100\u001b[39m],\n\u001b[1;32m      5\u001b[0m                    labels\u001b[38;5;241m=\u001b[39m[\u001b[38;5;124m'\u001b[39m\u001b[38;5;124mLight Box\u001b[39m\u001b[38;5;124m'\u001b[39m, \u001b[38;5;124m'\u001b[39m\u001b[38;5;124mStandard\u001b[39m\u001b[38;5;124m'\u001b[39m, \u001b[38;5;124m'\u001b[39m\u001b[38;5;124mHeavy Box\u001b[39m\u001b[38;5;124m'\u001b[39m, \u001b[38;5;124m'\u001b[39m\u001b[38;5;124mGoal Line\u001b[39m\u001b[38;5;124m'\u001b[39m])\n\u001b[1;32m      6\u001b[0m ax \u001b[38;5;241m=\u001b[39m formations\u001b[38;5;241m.\u001b[39mvalue_counts(normalize\u001b[38;5;241m=\u001b[39m\u001b[38;5;28;01mTrue\u001b[39;00m)\u001b[38;5;241m.\u001b[39mplot(kind\u001b[38;5;241m=\u001b[39m\u001b[38;5;124m'\u001b[39m\u001b[38;5;124mbar\u001b[39m\u001b[38;5;124m'\u001b[39m)\n",
      "\u001b[0;31mNameError\u001b[0m: name 'plt' is not defined"
     ]
    }
   ],
   "source": [
    "# Cell 1: Formation Distribution Visualization\n",
    "import pandas as pd\n",
    "import numpy as np\n",
    "import matplotlib.pyplot as plt\n",
    "import seaborn as sns\n",
    "\n",
    "plt.figure(figsize=(12, 6))\n",
    "formations = pd.cut(play_features['box_count'], \n",
    "                   bins=[0, 5, 6, 7, 100],\n",
    "                   labels=['Light Box', 'Standard', 'Heavy Box', 'Goal Line'])\n",
    "ax = formations.value_counts(normalize=True).plot(kind='bar')\n",
    "plt.title('Distribution of Defensive Formations', fontsize=14)\n",
    "plt.xlabel('Formation Type', fontsize=12)\n",
    "plt.ylabel('Frequency', fontsize=12)\n",
    "plt.xticks(rotation=45)\n",
    "\n",
    "# Add percentage labels on bars\n",
    "for i, v in enumerate(formations.value_counts(normalize=True)):\n",
    "    ax.text(i, v + 0.01, f'{v:.1%}', ha='center', fontsize=10)\n",
    "\n",
    "plt.tight_layout()\n",
    "plt.show()"
   ]
  },
  {
   "cell_type": "code",
   "execution_count": null,
   "metadata": {},
   "outputs": [],
   "source": [
    "# Cell 2: Spacing Distribution Visualization\n",
    "import pandas as pd\n",
    "import numpy as np\n",
    "import matplotlib.pyplot as plt\n",
    "import seaborn as sns\n",
    "\n",
    "plt.figure(figsize=(12, 6))\n",
    "sns.histplot(data=play_features, x='avg_spacing', bins=30)\n",
    "plt.axvline(play_features['avg_spacing'].mean(), color='r', linestyle='--', \n",
    "            label=f'Mean: {play_features[\"avg_spacing\"].mean():.2f} yards')\n",
    "plt.title('Distribution of Average Defensive Spacing', fontsize=14)\n",
    "plt.xlabel('Average Spacing (yards)', fontsize=12)\n",
    "plt.ylabel('Count', fontsize=12)\n",
    "plt.legend(fontsize=10)\n",
    "plt.tight_layout()\n",
    "plt.show()"
   ]
  },
  {
   "cell_type": "code",
   "execution_count": null,
   "metadata": {},
   "outputs": [],
   "source": [
    "# Cell 3: Pre-snap Movement Visualization\n",
    "import pandas as pd\n",
    "import numpy as np\n",
    "import matplotlib.pyplot as plt\n",
    "import seaborn as sns\n",
    "\n",
    "def plot_movement_heatmap(pre_snap_df):\n",
    "    # Calculate movement intensity\n",
    "    movement = pre_snap_df.groupby(['gameId', 'playId', 'frameId']).agg({\n",
    "        'x': lambda x: x.diff().abs().mean(),\n",
    "        'y': lambda x: x.diff().abs().mean()\n",
    "    }).reset_index()\n",
    "    \n",
    "    # Create heatmap\n",
    "    plt.figure(figsize=(15, 8))\n",
    "    movement_pivot = movement.pivot_table(\n",
    "        values='y', \n",
    "        index='frameId',\n",
    "        columns='gameId',\n",
    "        aggfunc='mean'\n",
    "    )\n",
    "    \n",
    "    sns.heatmap(movement_pivot, cmap='YlOrRd', \n",
    "                xticklabels=False, yticklabels=5)\n",
    "    plt.title('Pre-snap Movement Intensity Over Time', fontsize=14)\n",
    "    plt.xlabel('Plays', fontsize=12)\n",
    "    plt.ylabel('Frames Before Snap', fontsize=12)\n",
    "    plt.tight_layout()\n",
    "    plt.show()\n",
    "\n",
    "plot_movement_heatmap(pre_snap_df)"
   ]
  },
  {
   "cell_type": "code",
   "execution_count": null,
   "metadata": {},
   "outputs": [],
   "source": [
    "# Cell 4: DAVI Radar Plot\n",
    "import pandas as pd\n",
    "import numpy as np\n",
    "import matplotlib.pyplot as plt\n",
    "\n",
    "def plot_davi_radar(team_metrics):\n",
    "    # Prepare data\n",
    "    categories = ['Formation Variety', 'Spacing Versatility', 'Movement Rate']\n",
    "    values = [team_metrics['formation_entropy'],\n",
    "              team_metrics['spacing_versatility'],\n",
    "              team_metrics['transition_rate']]\n",
    "    \n",
    "    # Create radar plot\n",
    "    angles = np.linspace(0, 2*np.pi, len(categories), endpoint=False)\n",
    "    values = np.concatenate((values, [values[0]]))\n",
    "    angles = np.concatenate((angles, [angles[0]]))\n",
    "    \n",
    "    fig, ax = plt.subplots(figsize=(10, 10), subplot_kw=dict(projection='polar'))\n",
    "    ax.plot(angles, values, 'o-', linewidth=2)\n",
    "    ax.fill(angles, values, alpha=0.25)\n",
    "    ax.set_xticks(angles[:-1])\n",
    "    ax.set_xticklabels(categories, size=12)\n",
    "    plt.title('DAVI Components Breakdown', size=14, pad=20)\n",
    "    plt.tight_layout()\n",
    "    plt.show()\n",
    "\n",
    "plot_davi_radar(team_metrics)  # You'll need to calculate team_metrics first"
   ]
  },
  {
   "cell_type": "code",
   "execution_count": null,
   "metadata": {},
   "outputs": [],
   "source": [
    "# Cell 5: Team Rankings Visualization\n",
    "import pandas as pd\n",
    "import numpy as np\n",
    "import matplotlib.pyplot as plt\n",
    "\n",
    "def plot_team_rankings(team_davi):\n",
    "    plt.figure(figsize=(15, 8))\n",
    "    team_davi.head(10).plot(kind='bar')\n",
    "    plt.title('Top 10 Teams by DAVI Score', fontsize=14)\n",
    "    plt.xlabel('Team', fontsize=12)\n",
    "    plt.ylabel('DAVI Score', fontsize=12)\n",
    "    plt.xticks(rotation=45)\n",
    "    \n",
    "    # Add value labels on bars\n",
    "    for i, v in enumerate(team_davi.head(10)):\n",
    "        plt.text(i, v + 1, f'{v:.1f}', ha='center', fontsize=10)\n",
    "    \n",
    "    plt.tight_layout()\n",
    "    plt.show()\n",
    "\n",
    "plot_team_rankings(team_davi)  # You'll need to calculate team_davi first"
   ]
  }
 ],
 "metadata": {
  "kernelspec": {
   "display_name": "Python 3",
   "language": "python",
   "name": "python3"
  },
  "language_info": {
   "codemirror_mode": {
    "name": "ipython",
    "version": 3
   },
   "file_extension": ".py",
   "mimetype": "text/x-python",
   "name": "python",
   "nbconvert_exporter": "python",
   "pygments_lexer": "ipython3",
   "version": "3.12.4"
  }
 },
 "nbformat": 4,
 "nbformat_minor": 2
}
