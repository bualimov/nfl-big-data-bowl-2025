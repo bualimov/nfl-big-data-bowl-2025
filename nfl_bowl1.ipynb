{
 "cells": [
  {
   "cell_type": "code",
   "execution_count": 4,
   "id": "173e2270-5990-4587-9ef6-fcdd93ef95fa",
   "metadata": {},
   "outputs": [
    {
     "name": "stdout",
     "output_type": "stream",
     "text": [
      "imports done.\n"
     ]
    }
   ],
   "source": [
    "# imports\n",
    "# type: ignore\n",
    "import pandas as pd\n",
    "# import numpy as np\n",
    "# import matplotlib.pyplot as plt\n",
    "print('imports done.')"
   ]
  },
  {
   "cell_type": "code",
   "execution_count": 5,
   "id": "ac44e58b-5ac4-4dde-9214-cd1b43217e49",
   "metadata": {},
   "outputs": [
    {
     "name": "stdout",
     "output_type": "stream",
     "text": [
      "charts read in.\n"
     ]
    }
   ],
   "source": [
    "# reading in files (weeks)\n",
    "wk1 = pd.read_csv(\"tracking_week_1.csv\")\n",
    "wk2 = pd.read_csv(\"tracking_week_2.csv\")\n",
    "wk3 = pd.read_csv(\"tracking_week_3.csv\")\n",
    "wk4 = pd.read_csv(\"tracking_week_4.csv\")\n",
    "wk5 = pd.read_csv(\"tracking_week_5.csv\")\n",
    "wk6 = pd.read_csv(\"tracking_week_6.csv\")\n",
    "wk7 = pd.read_csv(\"tracking_week_7.csv\")\n",
    "wk8 = pd.read_csv(\"tracking_week_8.csv\")\n",
    "wk9 = pd.read_csv(\"tracking_week_9.csv\")\n",
    "\n",
    "# other stuff\n",
    "player_play = pd.read_csv(\"player_play.csv\")\n",
    "games = pd.read_csv(\"games.csv\")\n",
    "players = pd.read_csv(\"players.csv\")\n",
    "plays = pd.read_csv(\"plays.csv\")\n",
    "\n",
    "# time: 46.0s\n",
    "print('charts read in.')\n"
   ]
  },
  {
   "cell_type": "code",
   "execution_count": 6,
   "id": "04e655d5",
   "metadata": {},
   "outputs": [
    {
     "name": "stdout",
     "output_type": "stream",
     "text": [
      "big data set (df) formed, with dimensions:  (59327373, 18)\n"
     ]
    }
   ],
   "source": [
    "# attempt to combine all into one df\n",
    "\n",
    "# declare list of all weeks\n",
    "weeks = [wk1, wk2, wk3, wk4, wk5, wk6, wk7, wk8, wk9]\n",
    "\n",
    "# concat\n",
    "df = pd.concat(weeks, ignore_index=True)\n",
    "\n",
    "# successfully combined\n",
    "# time: 51.4s\n",
    "print('big data set (df) formed, with dimensions: ', df.shape)\n",
    "\n",
    "#view\n",
    "# df.head(5)\n",
    "\n",
    "# time without .head(): 4.0s"
   ]
  },
  {
   "cell_type": "code",
   "execution_count": 7,
   "id": "79e7c46a",
   "metadata": {},
   "outputs": [
    {
     "name": "stdout",
     "output_type": "stream",
     "text": [
      "succesfully saved big df as csv to folder.\n"
     ]
    }
   ],
   "source": [
    "# big df to csv, to save in folder\n",
    "df.to_csv(\"combined_weeks.csv\", index=False)\n",
    "print('succesfully saved big df as csv to folder.')\n",
    "\n",
    "# time: 3m 43.3s"
   ]
  },
  {
   "cell_type": "code",
   "execution_count": 5,
   "id": "aa2a1ba6",
   "metadata": {},
   "outputs": [
    {
     "name": "stdout",
     "output_type": "stream",
     "text": [
      "big data set (df1) formed, with dimensions:  (56747802, 65)\n"
     ]
    }
   ],
   "source": [
    "# now combining df + player_play\n",
    "df1 = pd.merge(df, player_play, on=[\"gameId\", \"playId\", \"nflId\"], how=\"inner\")\n",
    "\n",
    "# it worked\n",
    "print('big data set (df1) formed, with dimensions: ', df1.shape)\n",
    "# time: 53.8s\n"
   ]
  },
  {
   "cell_type": "code",
   "execution_count": 6,
   "id": "f5420252",
   "metadata": {},
   "outputs": [
    {
     "ename": "",
     "evalue": "",
     "output_type": "error",
     "traceback": [
      "\u001b[1;31mThe Kernel crashed while executing code in the current cell or a previous cell. \n",
      "\u001b[1;31mPlease review the code in the cell(s) to identify a possible cause of the failure. \n",
      "\u001b[1;31mClick <a href='https://aka.ms/vscodeJupyterKernelCrash'>here</a> for more info. \n",
      "\u001b[1;31mView Jupyter <a href='command:jupyter.viewOutput'>log</a> for further details."
     ]
    }
   ],
   "source": [
    "# df = 59M rows x 18 columns\n",
    "# df1 = 59M rows x 65 columns (df + player_play)\n",
    "# df2? = ? columns (df1 + games) based on gameId\n",
    "# df3? = ? columns (df2 + plays) based on gameId, playId\n",
    "\n",
    "# (df2) now combining df1 + games based on gameId\n",
    "df2 = pd.merge(df1, games, on=\"gameId\", how=\"inner\")\n",
    "\n",
    "# it worked\n",
    "print('big data set (df2) formed, with dimensions: ', df2.shape)"
   ]
  },
  {
   "cell_type": "code",
   "execution_count": null,
   "id": "dc955e45",
   "metadata": {},
   "outputs": [],
   "source": []
  }
 ],
 "metadata": {
  "kernelspec": {
   "display_name": "Python 3 (ipykernel)",
   "language": "python",
   "name": "python3"
  },
  "language_info": {
   "codemirror_mode": {
    "name": "ipython",
    "version": 3
   },
   "file_extension": ".py",
   "mimetype": "text/x-python",
   "name": "python",
   "nbconvert_exporter": "python",
   "pygments_lexer": "ipython3",
   "version": "3.12.4"
  }
 },
 "nbformat": 4,
 "nbformat_minor": 5
}
